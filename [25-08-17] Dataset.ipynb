{
 "cells": [
  {
   "cell_type": "code",
   "execution_count": 1,
   "metadata": {},
   "outputs": [
    {
     "name": "stderr",
     "output_type": "stream",
     "text": [
      "/home/chlee/.conda/envs/ldm/lib/python3.8/site-packages/tqdm/auto.py:21: TqdmWarning: IProgress not found. Please update jupyter and ipywidgets. See https://ipywidgets.readthedocs.io/en/stable/user_install.html\n",
      "  from .autonotebook import tqdm as notebook_tqdm\n",
      "2025-08-17 08:21:55.628855: I tensorflow/core/util/port.cc:110] oneDNN custom operations are on. You may see slightly different numerical results due to floating-point round-off errors from different computation orders. To turn them off, set the environment variable `TF_ENABLE_ONEDNN_OPTS=0`.\n",
      "2025-08-17 08:21:55.631557: I tensorflow/tsl/cuda/cudart_stub.cc:28] Could not find cuda drivers on your machine, GPU will not be used.\n",
      "2025-08-17 08:21:55.676286: I tensorflow/core/platform/cpu_feature_guard.cc:182] This TensorFlow binary is optimized to use available CPU instructions in performance-critical operations.\n",
      "To enable the following instructions: AVX2 AVX512F AVX512_VNNI FMA, in other operations, rebuild TensorFlow with the appropriate compiler flags.\n",
      "2025-08-17 08:21:56.462266: W tensorflow/compiler/tf2tensorrt/utils/py_utils.cc:38] TF-TRT Warning: Could not find TensorRT\n"
     ]
    }
   ],
   "source": [
    "import os\n",
    "import glob\n",
    "from sklearn.model_selection import train_test_split"
   ]
  },
  {
   "cell_type": "markdown",
   "metadata": {},
   "source": [
    "#### Dataset (ldm ver)"
   ]
  },
  {
   "cell_type": "code",
   "execution_count": 2,
   "metadata": {},
   "outputs": [
    {
     "name": "stdout",
     "output_type": "stream",
     "text": [
      "파일 저장 완료!\n"
     ]
    }
   ],
   "source": [
    "# 경로 설정\n",
    "slit_dir = \"/camin1/chlee/Data/cornea_image/segmented/Lt/slit/whole\"\n",
    "slit_beam_dir = \"/camin1/chlee/Data/cornea_image/segmented/Lt/slit_beam/whole\"\n",
    "save_dir = \"/camin1/chlee/latent-diffusion-keratopathy/data\"\n",
    "\n",
    "# 파일 리스트 가져오기\n",
    "slit_files = glob.glob(os.path.join(slit_dir, \"*SLIT-1.png\"))\n",
    "slit_beam_files = glob.glob(os.path.join(slit_beam_dir, \"*SLIT_BEAM-1.png\"))\n",
    "\n",
    "# key 만들기 (환자번호_날짜_Lt)\n",
    "def get_key(filepath, slit=True):\n",
    "    filename = os.path.basename(filepath)\n",
    "    # slit: 17172038_20220530_Lt_SLIT-1.png\n",
    "    # slit_beam: 17172038_20220530_Lt_SLIT_BEAM-1.png\n",
    "    if slit:\n",
    "        key = filename.replace('_SLIT-1.png', '')\n",
    "    else:\n",
    "        key = filename.replace('_SLIT_BEAM-1.png', '')\n",
    "    return key\n",
    "\n",
    "# slit dict: key->file, slit_beam dict: key->file\n",
    "slit_dict = {get_key(f, slit=True): f for f in slit_files}\n",
    "slit_beam_dict = {get_key(f, slit=False): f for f in slit_beam_files}\n",
    "\n",
    "# 공통 key 추출\n",
    "common_keys = sorted(list(set(slit_dict.keys()) & set(slit_beam_dict.keys())))\n",
    "\n",
    "# split\n",
    "train_keys, testval_keys = train_test_split(common_keys, test_size=0.4, random_state=42)\n",
    "val_keys, test_keys = train_test_split(testval_keys, test_size=0.5, random_state=42)\n",
    "\n",
    "splits = {\n",
    "    \"train\": train_keys,\n",
    "    \"val\": val_keys,\n",
    "    \"test\": test_keys,\n",
    "}\n",
    "\n",
    "# 저장 함수\n",
    "def write_paths(filelist, save_path):\n",
    "    with open(save_path, \"w\") as f:\n",
    "        for file in filelist:\n",
    "            f.write(file + \"\\n\")\n",
    "\n",
    "for split in [\"train\", \"val\", \"test\"]:\n",
    "    slit_split_files = [slit_dict[k] for k in splits[split]]\n",
    "    slit_beam_split_files = [slit_beam_dict[k] for k in splits[split]]\n",
    "\n",
    "    write_paths(slit_split_files, os.path.join(save_dir, f\"L_slit_{split}_index.txt\"))\n",
    "    write_paths(slit_beam_split_files, os.path.join(save_dir, f\"L_slit_beam_{split}_index.txt\"))\n",
    "\n",
    "print(\"파일 저장 완료!\")\n"
   ]
  },
  {
   "cell_type": "code",
   "execution_count": null,
   "metadata": {},
   "outputs": [],
   "source": []
  },
  {
   "cell_type": "code",
   "execution_count": null,
   "metadata": {},
   "outputs": [],
   "source": []
  }
 ],
 "metadata": {
  "kernelspec": {
   "display_name": "ldm",
   "language": "python",
   "name": "python3"
  },
  "language_info": {
   "codemirror_mode": {
    "name": "ipython",
    "version": 3
   },
   "file_extension": ".py",
   "mimetype": "text/x-python",
   "name": "python",
   "nbconvert_exporter": "python",
   "pygments_lexer": "ipython3",
   "version": "3.8.5"
  }
 },
 "nbformat": 4,
 "nbformat_minor": 2
}
