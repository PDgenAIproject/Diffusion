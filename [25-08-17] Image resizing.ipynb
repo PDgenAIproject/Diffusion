{
 "cells": [
  {
   "cell_type": "code",
   "execution_count": 5,
   "metadata": {},
   "outputs": [
    {
     "name": "stdout",
     "output_type": "stream",
     "text": [
      "Saved: /camin1/chlee/latent-diffusion-keratopathy/outputs/in/17172038_20220530_Lt_SLIT-1_64crop.jpg size: (320, 512)\n"
     ]
    }
   ],
   "source": [
    "from PIL import Image\n",
    "import math\n",
    "\n",
    "in_path  = \"/camin1/chlee/latent-diffusion-keratopathy/outputs/in/17172038_20220530_Lt_SLIT-1.jpg\" # your path of input\n",
    "out_path = \"/camin1/chlee/latent-diffusion-keratopathy/outputs/in/17172038_20220530_Lt_SLIT-1_64crop.jpg\" # your path of output\n",
    "\n",
    "target_long = 512               # 원하는 긴 변 (64의 배수 권장: 384/448/512 등)\n",
    "grid = 64\n",
    "\n",
    "img = Image.open(in_path).convert(\"RGB\")\n",
    "w, h = img.size\n",
    "\n",
    "# 1) 비율 유지로 긴 변을 target_long으로 리사이즈\n",
    "if w >= h:\n",
    "    new_w = target_long\n",
    "    new_h = int(round(h * (target_long / w)))\n",
    "else:\n",
    "    new_h = target_long\n",
    "    new_w = int(round(w * (target_long / h)))\n",
    "\n",
    "img = img.resize((new_w, new_h), Image.Resampling.LANCZOS)\n",
    "\n",
    "# 2) 64의 배수로 센터 크롭 (부족하면 한 단계 낮은 배수로)\n",
    "crop_w = (new_w // grid) * grid\n",
    "crop_h = (new_h // grid) * grid\n",
    "left   = (new_w - crop_w) // 2\n",
    "top    = (new_h - crop_h) // 2\n",
    "img = img.crop((left, top, left + crop_w, top + crop_h))\n",
    "\n",
    "img.save(out_path)\n",
    "print(\"Saved:\", out_path, \"size:\", img.size)\n"
   ]
  },
  {
   "cell_type": "code",
   "execution_count": null,
   "metadata": {},
   "outputs": [],
   "source": []
  },
  {
   "cell_type": "code",
   "execution_count": null,
   "metadata": {},
   "outputs": [],
   "source": []
  }
 ],
 "metadata": {
  "kernelspec": {
   "display_name": "ldm",
   "language": "python",
   "name": "python3"
  },
  "language_info": {
   "codemirror_mode": {
    "name": "ipython",
    "version": 3
   },
   "file_extension": ".py",
   "mimetype": "text/x-python",
   "name": "python",
   "nbconvert_exporter": "python",
   "pygments_lexer": "ipython3",
   "version": "3.8.5"
  }
 },
 "nbformat": 4,
 "nbformat_minor": 2
}
